{
 "cells": [
  {
   "cell_type": "code",
   "execution_count": 59,
   "metadata": {},
   "outputs": [],
   "source": [
    "from tqdm import tqdm\n",
    "import numpy as np\n",
    "import csv\n",
    "import os\n",
    "\n",
    "from RFEM.enums import ObjectTypes\n",
    "from RFEM.initModel import Model, Calculate_all\n",
    "from RFEM.Loads.nodalLoad import NodalLoad\n",
    "from RFEM.enums import NodalLoadSpecificDirectionType, LoadDirectionType\n",
    "from RFEM.Results import resultTables"
   ]
  },
  {
   "cell_type": "code",
   "execution_count": 60,
   "metadata": {},
   "outputs": [],
   "source": [
    "model = Model(False, 'tensegrity_rfemAPI_8-12-22')"
   ]
  },
  {
   "cell_type": "code",
   "execution_count": 61,
   "metadata": {},
   "outputs": [],
   "source": [
    "# Numbers of nodes at the beginning of the upper cables\n",
    "nodes_of_upper_cables = [7, 6, 8, 5]\n",
    "\n",
    "# Numbers of nodes at the beginning of the lower cables\n",
    "nodes_of_lower_cables = [1, 2, 3, 4]\n",
    "\n",
    "# Numbers of end nodes of pistons\n",
    "nodes_of_pistons = [9, 10, 11, 12]"
   ]
  },
  {
   "cell_type": "code",
   "execution_count": 62,
   "metadata": {},
   "outputs": [],
   "source": [
    "# merge arrays of nodes\n",
    "nodes = nodes_of_upper_cables + nodes_of_lower_cables + nodes_of_pistons"
   ]
  },
  {
   "cell_type": "code",
   "execution_count": 63,
   "metadata": {},
   "outputs": [],
   "source": [
    "# Numbers of upper cables - used for direction of the load\n",
    "upper_cables = [5, 6, 7, 8]\n",
    "\n",
    "# Numbers of stiff members\n",
    "bars = [20, 21, 22, 23]\n",
    "\n",
    "# Numbers of cables\n",
    "cables = [1, 2, 3, 4, 5, 6, 7, 8, 16, 17, 18, 19]\n",
    "\n",
    "# Numbers of pistons\n",
    "pistons = [9, 13, 14, 15]"
   ]
  },
  {
   "cell_type": "code",
   "execution_count": 64,
   "metadata": {},
   "outputs": [],
   "source": [
    "# assign type of member to each number and create dictionary\n",
    "bars_dict = {bar: 'bar' for bar in bars}\n",
    "cables_dict = {cables: 'cables' for cables in cables}\n",
    "pistons = {pistons: 'pistons' for pistons in pistons}"
   ]
  },
  {
   "cell_type": "code",
   "execution_count": 65,
   "metadata": {},
   "outputs": [],
   "source": [
    "# merge dictionaries\n",
    "members_dict = {**bars_dict, **cables_dict, **pistons}"
   ]
  },
  {
   "cell_type": "code",
   "execution_count": 66,
   "metadata": {},
   "outputs": [],
   "source": [
    "# get members numbers needed for results\n",
    "members_numbers = list(members_dict.keys())\n",
    "# get members types needed as headers for results\n",
    "members_types = list(members_dict.values())"
   ]
  },
  {
   "cell_type": "code",
   "execution_count": 67,
   "metadata": {},
   "outputs": [],
   "source": [
    "def rng_uniform():\n",
    "    rng = np.random.default_rng()\n",
    "    # Random uniform distribution of forces between -3 and 3 kN \n",
    "    random_forces = rng.uniform(-3, 3, 12)*1000\n",
    "\n",
    "    # random number of zero forces\n",
    "    zero_forces = int(rng.uniform(0, 12))\n",
    "\n",
    "    # Generate 10 unique random integers between 0 and 11 uniformly distributed\n",
    "    random_indexes = rng.choice(np.arange(12), size=zero_forces, replace=False).tolist()\n",
    "\n",
    "    # overwrite random_forces with zeros at random_indexes\n",
    "    random_forces[random_indexes] = 0.00001\n",
    "    list = random_forces.tolist()\n",
    "\n",
    "    # create 4 lists of 3 elements each\n",
    "    random_forces = [list[i:i + 3] for i in range(0, len(list), 3)]\n",
    "    return random_forces"
   ]
  },
  {
   "cell_type": "code",
   "execution_count": 68,
   "metadata": {},
   "outputs": [],
   "source": [
    "def get_results(members, nodes):\n",
    "    results = {\n",
    "        'internal_forces'  : [],\n",
    "        'displacements_x'    : [],\n",
    "        'displacements_y'    : [],\n",
    "        'displacements_z'    : [],\n",
    "    }\n",
    "    for i in members:\n",
    "        results['internal_forces'].append(resultTables.ResultTables.MembersInternalForces(\n",
    "            loading_no=5007, object_no=i)[0]['internal_force_n'])\n",
    "    for j in nodes:\n",
    "        displacements = resultTables.ResultTables.NodesDeformations(\n",
    "            loading_no=5007, object_no=j)\n",
    "        results['displacements_x'].append(displacements[0]['displacement_x'])\n",
    "        results['displacements_y'].append(displacements[0]['displacement_y'])\n",
    "        results['displacements_z'].append(displacements[0]['displacement_z'])\n",
    "    return results"
   ]
  },
  {
   "cell_type": "code",
   "execution_count": 71,
   "metadata": {},
   "outputs": [],
   "source": [
    "def main(iterations):    \n",
    "    for i in range(iterations):\n",
    "        # generate 4 random forces for each bar\n",
    "        random_forces = rng_uniform()\n",
    "        print(random_forces)\n",
    "\n",
    "\n",
    "        # assign forces to each member in RFEM\n",
    "        for j in range(len(nodes_of_upper_cables)):\n",
    "            force_1 = random_forces[j][0]\n",
    "            force_2 = random_forces[j][1]\n",
    "            force_3 = random_forces[j][2]\n",
    "\n",
    "            NodalLoad.Force(no=j+1, load_case_no=5007, nodes_no=str(nodes_of_upper_cables[j]),\n",
    "                                magnitude=force_1,\n",
    "                                load_direction=LoadDirectionType.LOAD_DIRECTION_LOCAL_X,\n",
    "                                specific_direction=True,\n",
    "                                params={'specific_direction': [NodalLoadSpecificDirectionType.DIRECTION_TYPE_PARALLEL_TO_CS_OF_MEMBER, upper_cables[j]]})\n",
    "\n",
    "            NodalLoad.Force(no=j+20, load_case_no=5007, nodes_no=str(nodes_of_upper_cables[j]),\n",
    "                                magnitude=force_2,\n",
    "                                load_direction=LoadDirectionType.LOAD_DIRECTION_LOCAL_Y,\n",
    "                                specific_direction=True,\n",
    "                                params={'specific_direction': [NodalLoadSpecificDirectionType.DIRECTION_TYPE_PARALLEL_TO_CS_OF_MEMBER, upper_cables[j]]})\n",
    "\n",
    "\n",
    "            NodalLoad.Force(no=j+30, load_case_no=5007, nodes_no=str(nodes_of_upper_cables[j]),\n",
    "                                magnitude=force_3,\n",
    "                                load_direction=LoadDirectionType.LOAD_DIRECTION_LOCAL_Z,\n",
    "                                specific_direction=True,\n",
    "                                params={'specific_direction': [NodalLoadSpecificDirectionType.DIRECTION_TYPE_PARALLEL_TO_CS_OF_MEMBER, upper_cables[j]]})\n",
    "\n",
    "        # calculate model in RFEM\n",
    "        Calculate_all()\n",
    "\n",
    "        # get results\n",
    "        results = get_results(members_numbers, nodes)\n",
    "\n",
    "        # check if file is empty\n",
    "        internal_forces_size = os.path.getsize('internal_forces.csv')\n",
    "        displacements_size = os.path.getsize('displacements.csv')\n",
    "        forces_size = os.path.getsize('forces.csv')\n",
    "\n",
    "        \n",
    "        with open('internal_forces.csv', mode='a', newline='') as file:\n",
    "            writer = csv.writer(file)\n",
    "            if i == 0 and internal_forces_size == 0:\n",
    "                writer.writerow(members_numbers) # write headers only once\n",
    "                writer.writerow(members_types) # write headers only once\n",
    "            writer.writerow(results['internal_forces'])\n",
    "\n",
    "        # to each number in nodes array, add direction string\n",
    "        nodes_x = [str(i) + 'x' for i in nodes]\n",
    "        nodes_y = [str(i) + 'y' for i in nodes]\n",
    "        nodes_z = [str(i) + 'z' for i in nodes]\n",
    "        nodes_with_direction = nodes_x + nodes_y + nodes_z\n",
    "\n",
    "        # merge displacement results into one array\n",
    "        displacements = np.array(results['displacements_x'] + results['displacements_y'] + results['displacements_z'])\n",
    "\n",
    "        with open('displacements.csv', mode='a', newline='') as file:\n",
    "            writer = csv.writer(file)\n",
    "            if i == 0 and displacements_size == 0:\n",
    "                writer.writerow(nodes_with_direction) # write headers only once\n",
    "            writer.writerow(displacements)\n",
    "\n",
    "        with open('forces.csv', mode='a', newline='') as file:\n",
    "            writer = csv.writer(file)\n",
    "            if i == 0 and forces_size == 0:\n",
    "                writer.writerow(['7x', '7y', '7z', '6x', '6y', '6z', '8x', '8y', '8z', '5x', '5y', '5z']) # write headers only once\n",
    "            writer.writerow(np.array(random_forces).flatten())\n",
    "        \n",
    "        # delete results\n",
    "        model.clientModel.service.delete_all_results(False)"
   ]
  },
  {
   "cell_type": "code",
   "execution_count": 72,
   "metadata": {},
   "outputs": [
    {
     "name": "stdout",
     "output_type": "stream",
     "text": [
      "[[-2325.006809511372, -2847.647925761794, 1174.6980001090853], [2516.753661249857, -472.1633033021071, 596.3429321198381], [-333.3215312180444, 2117.715443929364, 1e-05], [-883.9564655840686, -1529.3662640168425, -2862.1790842323694]]\n",
      "[[1e-05, 2345.605230938924, 1e-05], [1e-05, 1e-05, 723.8007019660238], [1e-05, 1e-05, 1e-05], [1e-05, 1688.0450489922528, 1900.684894377788]]\n"
     ]
    }
   ],
   "source": [
    "main(2)"
   ]
  }
 ],
 "metadata": {
  "kernelspec": {
   "display_name": "base",
   "language": "python",
   "name": "python3"
  },
  "language_info": {
   "codemirror_mode": {
    "name": "ipython",
    "version": 3
   },
   "file_extension": ".py",
   "mimetype": "text/x-python",
   "name": "python",
   "nbconvert_exporter": "python",
   "pygments_lexer": "ipython3",
   "version": "3.11.4"
  },
  "orig_nbformat": 4,
  "vscode": {
   "interpreter": {
    "hash": "75918162d800b4b0afe9003a3a21e108f30b56a8709e9e92681416565459cfc0"
   }
  }
 },
 "nbformat": 4,
 "nbformat_minor": 2
}
