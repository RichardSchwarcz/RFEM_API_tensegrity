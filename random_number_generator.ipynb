{
 "cells": [
  {
   "cell_type": "code",
   "execution_count": 2,
   "metadata": {},
   "outputs": [],
   "source": [
    "import numpy as np"
   ]
  },
  {
   "attachments": {},
   "cell_type": "markdown",
   "metadata": {},
   "source": [
    "# Random number generator\n",
    "1. Vygeneruje 12 náhodných síl od -3 do 3kN\n",
    "2. Vygeneruje náhodné číslo od 0 do 11, ktore bude reprezentovať počet nulových síl\n",
    "3. Vygeneruje náhodné indexy pre sily z 1. bodu, ktoré budu nulové. Počet indexov je rovný počtu nulových síl z 2. bodu\n",
    "4. Nahradí sily z 1. bodu na indexoch z 3. bodu nulovými siliami (0.00001N)\n",
    "    - Neviem vymazať silu ani vytvoriť 0kN silu. Preto sa v prvej iterácii vytvorí 12 síl, ktorým sa v ďalších iteráciách menia veľkosti a znamienka"
   ]
  },
  {
   "cell_type": "code",
   "execution_count": 24,
   "metadata": {},
   "outputs": [],
   "source": [
    "def rng_uniform():\n",
    "    rng = np.random.default_rng()\n",
    "    # Random uniform distribution of forces between -3 and 3 kN\n",
    "    random_forces = rng.uniform(-3, 3, 12)*1000\n",
    "\n",
    "    # random number of zero forces\n",
    "    zero_forces = int(rng.uniform(0, 12))\n",
    "\n",
    "    # Generate 10 unique random integers between 0 and 11 uniformly distributed\n",
    "    random_indexes = rng.choice(\n",
    "        np.arange(12), size=zero_forces, replace=False).tolist()\n",
    "\n",
    "    # overwrite random_forces with zeros at random_indexes\n",
    "    random_forces[random_indexes] = 0.00001\n",
    "    list = random_forces.tolist()\n",
    "\n",
    "    # create 4 lists of 3 elements each\n",
    "    random_forces = [list[i:i + 3] for i in range(0, len(list), 3)]\n",
    "    return random_forces\n"
   ]
  },
  {
   "cell_type": "code",
   "execution_count": 26,
   "metadata": {},
   "outputs": [
    {
     "data": {
      "text/plain": [
       "[[1e-05, -2338.805876321377, -2692.4964548584426],\n",
       " [1e-05, -2222.736857483946, 892.336214915975],\n",
       " [-2808.5174095412985, 2877.802092155519, -2798.271578667194],\n",
       " [1e-05, 1e-05, 1e-05]]"
      ]
     },
     "execution_count": 26,
     "metadata": {},
     "output_type": "execute_result"
    }
   ],
   "source": [
    "rng_uniform()"
   ]
  }
 ],
 "metadata": {
  "kernelspec": {
   "display_name": "base",
   "language": "python",
   "name": "python3"
  },
  "language_info": {
   "codemirror_mode": {
    "name": "ipython",
    "version": 3
   },
   "file_extension": ".py",
   "mimetype": "text/x-python",
   "name": "python",
   "nbconvert_exporter": "python",
   "pygments_lexer": "ipython3",
   "version": "3.8.8"
  },
  "orig_nbformat": 4,
  "vscode": {
   "interpreter": {
    "hash": "75918162d800b4b0afe9003a3a21e108f30b56a8709e9e92681416565459cfc0"
   }
  }
 },
 "nbformat": 4,
 "nbformat_minor": 2
}
