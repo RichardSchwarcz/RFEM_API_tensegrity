{
 "cells": [
  {
   "cell_type": "code",
   "execution_count": 2,
   "metadata": {},
   "outputs": [
    {
     "name": "stdout",
     "output_type": "stream",
     "text": [
      "One of the required modules is not installed in your Python env.\n",
      "Connecting to server...\n"
     ]
    }
   ],
   "source": [
    "from tqdm import tqdm\n",
    "import numpy as np\n",
    "import csv\n",
    "import os\n",
    "\n",
    "from RFEM.enums import ObjectTypes\n",
    "from RFEM.initModel import Model, Calculate_all\n",
    "from RFEM.Loads.nodalLoad import NodalLoad\n",
    "from RFEM.Loads.memberLoad import MemberLoad\n",
    "from RFEM.enums import NodalLoadSpecificDirectionType, LoadDirectionType\n",
    "from RFEM.Results import resultTables"
   ]
  },
  {
   "cell_type": "code",
   "execution_count": null,
   "metadata": {},
   "outputs": [],
   "source": [
    "# Get the current directory of the script\n",
    "current_dir = os.path.dirname(os.path.abspath('piston_strain.py'))\n",
    "# Specify the relative path to the CSV folder\n",
    "csv_folder_path = os.path.join(current_dir, 'csv')"
   ]
  },
  {
   "cell_type": "code",
   "execution_count": 2,
   "metadata": {},
   "outputs": [],
   "source": [
    "model = Model(False, 'tensegrity_rfemAPI_8-12-22')"
   ]
  },
  {
   "cell_type": "code",
   "execution_count": 3,
   "metadata": {},
   "outputs": [],
   "source": [
    "# Numbers of nodes at the beginning of the upper cables\n",
    "nodes_of_upper_cables = [7, 6, 8, 5]\n",
    "\n",
    "# Numbers of nodes at the beginning of the lower cables\n",
    "nodes_of_lower_cables = [1, 2, 3, 4]\n",
    "\n",
    "# Numbers of end nodes of pistons\n",
    "nodes_of_pistons = [9, 10, 11, 12]"
   ]
  },
  {
   "cell_type": "code",
   "execution_count": 4,
   "metadata": {},
   "outputs": [],
   "source": [
    "# merge arrays of nodes\n",
    "nodes = nodes_of_upper_cables + nodes_of_lower_cables + nodes_of_pistons"
   ]
  },
  {
   "cell_type": "code",
   "execution_count": 5,
   "metadata": {},
   "outputs": [],
   "source": [
    "# Numbers of upper cables - used for direction of the load\n",
    "upper_cables = [5, 6, 7, 8]\n",
    "\n",
    "# Numbers of stiff members\n",
    "bars = [20, 21, 22, 23]\n",
    "\n",
    "# Numbers of cables\n",
    "cables = [1, 2, 3, 4, 5, 6, 7, 8, 16, 17, 18, 19]\n",
    "\n",
    "# Numbers of pistons\n",
    "pistons = [9, 13, 14, 15]"
   ]
  },
  {
   "cell_type": "code",
   "execution_count": 6,
   "metadata": {},
   "outputs": [],
   "source": [
    "# assign type of member to each number and create dictionary\n",
    "bars_dict = {bar: 'bar' for bar in bars}\n",
    "cables_dict = {cables: 'cables' for cables in cables}\n",
    "pistons_dict = {pistons: 'pistons' for pistons in pistons}"
   ]
  },
  {
   "cell_type": "code",
   "execution_count": 7,
   "metadata": {},
   "outputs": [],
   "source": [
    "# merge dictionaries\n",
    "members_dict = {**bars_dict, **cables_dict, **pistons_dict}"
   ]
  },
  {
   "cell_type": "code",
   "execution_count": 8,
   "metadata": {},
   "outputs": [],
   "source": [
    "# get members numbers needed for results\n",
    "members_numbers = list(members_dict.keys())\n",
    "# get members types needed as headers for results\n",
    "members_types = list(members_dict.values())"
   ]
  },
  {
   "cell_type": "code",
   "execution_count": 9,
   "metadata": {},
   "outputs": [],
   "source": [
    "def rng_strain():\n",
    "    rng = np.random.default_rng()\n",
    "    # Random uniform distribution of forces between -3 and 3 kN \n",
    "    random_forces = rng.uniform(-0.1, 0.1, 4)\n",
    "\n",
    "    # random number of zero forces\n",
    "    zero_forces = int(rng.uniform(0, 4))\n",
    "\n",
    "    # Generate 4 unique random integers between 0 and 3 uniformly distributed\n",
    "    random_indexes = rng.choice(np.arange(4), size=zero_forces, replace=False).tolist()\n",
    "\n",
    "    # # overwrite random_forces with zeros at random_indexes\n",
    "    random_forces[random_indexes] = 0.001\n",
    "    # list = random_forces.tolist()\n",
    "\n",
    "    # create 4 lists of 3 elements each\n",
    "    # random_forces = [list[i:i + 3] for i in range(0, len(list), 3)]\n",
    "    return random_forces"
   ]
  },
  {
   "cell_type": "code",
   "execution_count": 10,
   "metadata": {},
   "outputs": [],
   "source": [
    "def get_results(members, nodes):\n",
    "    results = {\n",
    "        'internal_forces'  : [],\n",
    "        'displacements_x'    : [],\n",
    "        'displacements_y'    : [],\n",
    "        'displacements_z'    : [],\n",
    "    }\n",
    "    for i in members:\n",
    "        results['internal_forces'].append(resultTables.ResultTables.MembersInternalForces(\n",
    "            loading_no=5007, object_no=i)[0]['internal_force_n'])\n",
    "    for j in nodes:\n",
    "        displacements = resultTables.ResultTables.NodesDeformations(\n",
    "            loading_no=5007, object_no=j)\n",
    "        results['displacements_x'].append(displacements[0]['displacement_x'])\n",
    "        results['displacements_y'].append(displacements[0]['displacement_y'])\n",
    "        results['displacements_z'].append(displacements[0]['displacement_z'])\n",
    "    return results"
   ]
  },
  {
   "cell_type": "code",
   "execution_count": 11,
   "metadata": {},
   "outputs": [],
   "source": [
    "def main(iterations):    \n",
    "    for i in range(iterations):\n",
    "        # generate 4 random forces for each bar\n",
    "        random_strain = rng_strain()\n",
    "        print('\\nrandom strain: ', random_strain)\n",
    "\n",
    "        # assign strain to each member in RFEM\n",
    "        print('Assigning strain to each member...')\n",
    "        for j in range(len(nodes_of_pistons)):\n",
    "            MemberLoad.AxialStrain(no=j+1, load_case_no=5007, members_no=str(pistons[j]), load_parameter=[random_strain[j]/1000])\n",
    "\n",
    "        # calculate model in RFEM\n",
    "        print('calculating model...')\n",
    "        Calculate_all()\n",
    "\n",
    "        # get results\n",
    "        print('getting results...')\n",
    "        results = get_results(members_numbers, nodes)\n",
    "\n",
    "        # check if file is empty\n",
    "        internal_forces_path = os.path.join(csv_folder_path, 'internal_forces.csv')\n",
    "        internal_forces_size = os.path.getsize(internal_forces_path)\n",
    "\n",
    "        displacements_path = os.path.join(csv_folder_path, 'displacements.csv')\n",
    "        displacements_size = os.path.getsize(displacements_path)\n",
    "\n",
    "        strain_path = os.path.join(csv_folder_path, 'strain.csv')\n",
    "        strain_size = os.path.getsize(strain_path)\n",
    "\n",
    "        \n",
    "        with open(internal_forces_path, mode='a', newline='') as file:\n",
    "            writer = csv.writer(file)\n",
    "            if i == 0 and internal_forces_size == 0:\n",
    "                writer.writerow(members_numbers) # write headers only once\n",
    "                writer.writerow(members_types) # write headers only once\n",
    "            writer.writerow(results['internal_forces'])\n",
    "\n",
    "        # to each number in nodes array, add direction string\n",
    "        nodes_x = [str(i) + 'x' for i in nodes]\n",
    "        nodes_y = [str(i) + 'y' for i in nodes]\n",
    "        nodes_z = [str(i) + 'z' for i in nodes]\n",
    "        nodes_with_direction = nodes_x + nodes_y + nodes_z\n",
    "\n",
    "        # merge displacement results into one array\n",
    "        displacements = np.array(results['displacements_x'] + results['displacements_y'] + results['displacements_z'])\n",
    "\n",
    "        with open(displacements_path, mode='a', newline='') as file:\n",
    "            writer = csv.writer(file)\n",
    "            if i == 0 and displacements_size == 0:\n",
    "                writer.writerow(nodes_with_direction) # write headers only once\n",
    "            writer.writerow(displacements)\n",
    "\n",
    "        with open(strain_path, mode='a', newline='') as file:\n",
    "            writer = csv.writer(file)\n",
    "            if i == 0 and strain_size == 0:\n",
    "                writer.writerow(['9', '13', '14', '15']) # write headers only once\n",
    "            writer.writerow(np.array(random_strain).flatten())\n",
    "        \n",
    "    \n",
    "        # delete results\n",
    "        model.clientModel.service.delete_all_results(False)"
   ]
  },
  {
   "cell_type": "code",
   "execution_count": 12,
   "metadata": {},
   "outputs": [
    {
     "name": "stdout",
     "output_type": "stream",
     "text": [
      "[ 0.001       0.001      -0.05421426 -0.0867151 ]\n"
     ]
    },
    {
     "name": "stdout",
     "output_type": "stream",
     "text": [
      "[-0.06690897  0.01000042  0.08836412 -0.08386442]\n",
      "[0.09260412 0.001      0.001      0.001     ]\n"
     ]
    }
   ],
   "source": [
    "main(3)"
   ]
  },
  {
   "cell_type": "code",
   "execution_count": null,
   "metadata": {},
   "outputs": [],
   "source": []
  }
 ],
 "metadata": {
  "kernelspec": {
   "display_name": "my_env",
   "language": "python",
   "name": "python3"
  },
  "language_info": {
   "codemirror_mode": {
    "name": "ipython",
    "version": 3
   },
   "file_extension": ".py",
   "mimetype": "text/x-python",
   "name": "python",
   "nbconvert_exporter": "python",
   "pygments_lexer": "ipython3",
   "version": "3.11.4"
  },
  "orig_nbformat": 4
 },
 "nbformat": 4,
 "nbformat_minor": 2
}
