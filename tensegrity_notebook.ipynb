{
 "cells": [
  {
   "cell_type": "code",
   "execution_count": 54,
   "metadata": {},
   "outputs": [],
   "source": [
    "from RFEM.initModel import Model, Calculate_all\n",
    "from RFEM.Loads.nodalLoad import NodalLoad\n",
    "from RFEM.enums import NodalLoadSpecificDirectionType, LoadDirectionType\n",
    "from RFEM.Results import resultTables\n",
    "\n",
    "import numpy as np\n",
    "import csv"
   ]
  },
  {
   "cell_type": "code",
   "execution_count": 55,
   "metadata": {},
   "outputs": [],
   "source": [
    "model = Model(False, 'tensegrity_rfemAPI_8-12-22')"
   ]
  },
  {
   "cell_type": "code",
   "execution_count": 56,
   "metadata": {},
   "outputs": [],
   "source": [
    "# Numbers of pressure active members to be loaded\n",
    "bars = [20, 21, 22, 23]\n",
    "\n",
    "# Numbers of nodes at the end of the members\n",
    "end_nodes_of_bars = [7, 6, 8, 5]\n",
    "\n",
    "# Numbers of tendons\n",
    "tendons = [1, 2, 3, 4, 5, 6, 7, 8, 16, 17, 18, 19]\n",
    "\n",
    "# Numbers of pistons\n",
    "pistons = [9, 13, 14, 15]"
   ]
  },
  {
   "cell_type": "code",
   "execution_count": 57,
   "metadata": {},
   "outputs": [],
   "source": [
    "# assign type of member to each number and create dictionary\n",
    "bars_dict = {bar: 'bar' for bar in bars}\n",
    "tendons_dict = {tendon: 'tendon' for tendon in tendons}\n",
    "pistons = {pistons: 'pistons' for pistons in pistons}"
   ]
  },
  {
   "cell_type": "code",
   "execution_count": 58,
   "metadata": {},
   "outputs": [],
   "source": [
    "# merge dictionaries\n",
    "members_dict = {**bars_dict, **tendons_dict, **pistons}"
   ]
  },
  {
   "cell_type": "code",
   "execution_count": 59,
   "metadata": {},
   "outputs": [],
   "source": [
    "# get key of the members\n",
    "members_numbers = list(members_dict.keys())\n",
    "# get values of the members\n",
    "members_types = list(members_dict.values())"
   ]
  },
  {
   "cell_type": "code",
   "execution_count": 60,
   "metadata": {},
   "outputs": [],
   "source": [
    "def rng_uniform():\n",
    "    # Random uniform distribution of forces between -3 and 3 kN \n",
    "    f = np.random.default_rng().uniform(-3, 3, 4)*1000\n",
    "    return f.tolist()"
   ]
  },
  {
   "cell_type": "code",
   "execution_count": 61,
   "metadata": {},
   "outputs": [],
   "source": [
    "def get_results(members):\n",
    "    results = []\n",
    "    for i in members:\n",
    "        results.append(resultTables.ResultTables.MembersInternalForces(\n",
    "            loading_no=5007, object_no=i)[0]['internal_force_n'])\n",
    "    return results"
   ]
  },
  {
   "cell_type": "code",
   "execution_count": 64,
   "metadata": {},
   "outputs": [],
   "source": [
    "def main(iterations):    \n",
    "    for i in range(iterations):\n",
    "        # generate 4 random forces for each bar\n",
    "        random_forces = rng_uniform()\n",
    "\n",
    "        # assign forces to each member in RFEM\n",
    "        for j in range(len(bars)):\n",
    "            NodalLoad.Force(no=j+1, load_case_no=5007, nodes_no=str(end_nodes_of_bars[j]),\n",
    "                            magnitude=random_forces[j],\n",
    "                            load_direction=LoadDirectionType.LOAD_DIRECTION_LOCAL_X,\n",
    "                            specific_direction=True,\n",
    "                            params={'specific_direction': [NodalLoadSpecificDirectionType.DIRECTION_TYPE_PARALLEL_TO_CS_OF_MEMBER, bars[j]]})\n",
    "\n",
    "        # calculate model in RFEM\n",
    "        Calculate_all()\n",
    "\n",
    "        # get results\n",
    "        results = get_results(members_numbers)\n",
    "        # append at the beginning of the results the iteration number\n",
    "        results.insert(0, i)\n",
    "\n",
    "        # create array of length 20 match the length of the results\n",
    "        forces = np.zeros(20)\n",
    "        forces[1:5] = random_forces\n",
    "        # append at the beginning of the forces the iteration number\n",
    "        forces[0] = i\n",
    "        \n",
    "        with open('data_iteration.csv', mode='a', newline='') as file:\n",
    "            writer = csv.writer(file)\n",
    "            if i == 0:\n",
    "                writer.writerow(members_numbers)\n",
    "                writer.writerow(members_types)\n",
    "            writer.writerow(forces)\n",
    "            writer.writerow(results)\n",
    "        \n",
    "        # delete results\n",
    "        model.clientModel.service.delete_all_results(False)\n"
   ]
  },
  {
   "cell_type": "code",
   "execution_count": 65,
   "metadata": {},
   "outputs": [],
   "source": [
    "main(2)"
   ]
  }
 ],
 "metadata": {
  "kernelspec": {
   "display_name": "base",
   "language": "python",
   "name": "python3"
  },
  "language_info": {
   "codemirror_mode": {
    "name": "ipython",
    "version": 3
   },
   "file_extension": ".py",
   "mimetype": "text/x-python",
   "name": "python",
   "nbconvert_exporter": "python",
   "pygments_lexer": "ipython3",
   "version": "3.8.8 (default, Apr 13 2021, 15:08:03) [MSC v.1916 64 bit (AMD64)]"
  },
  "orig_nbformat": 4,
  "vscode": {
   "interpreter": {
    "hash": "75918162d800b4b0afe9003a3a21e108f30b56a8709e9e92681416565459cfc0"
   }
  }
 },
 "nbformat": 4,
 "nbformat_minor": 2
}
