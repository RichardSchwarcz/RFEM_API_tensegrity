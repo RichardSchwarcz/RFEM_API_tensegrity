{
 "cells": [
  {
   "cell_type": "code",
   "execution_count": 1,
   "metadata": {},
   "outputs": [
    {
     "name": "stdout",
     "output_type": "stream",
     "text": [
      "One of the required modules is not installed in your Python env.\n",
      "Connecting to server...\n"
     ]
    }
   ],
   "source": [
    "from tqdm import tqdm\n",
    "import numpy as np\n",
    "import csv\n",
    "import os\n",
    "\n",
    "from RFEM.initModel import Model, Calculate_all\n",
    "from RFEM.Loads.nodalLoad import NodalLoad\n",
    "from RFEM.Loads.memberLoad import MemberLoad\n",
    "from RFEM.enums import NodalLoadSpecificDirectionType, LoadDirectionType\n",
    "from modules.generators import rng_strain, rng_forces\n",
    "from modules.get_results import get_results"
   ]
  },
  {
   "cell_type": "code",
   "execution_count": 4,
   "metadata": {},
   "outputs": [],
   "source": [
    "# Get the current directory of the script\n",
    "current_dir = os.path.dirname(os.path.abspath(\"single_force.py\"))\n",
    "# Specify the relative path to the CSV folder\n",
    "csv_folder_path = os.path.join(current_dir, \"csv\")"
   ]
  },
  {
   "cell_type": "code",
   "execution_count": 5,
   "metadata": {},
   "outputs": [],
   "source": [
    "model = Model(False, \"tensegrity_rfemAPI_8-12-22\")"
   ]
  },
  {
   "cell_type": "code",
   "execution_count": 6,
   "metadata": {},
   "outputs": [],
   "source": [
    "# Numbers of nodes at the beginning of the upper cables\n",
    "nodes_of_upper_cables = [7, 6, 8, 5]\n",
    "\n",
    "# Numbers of nodes at the beginning of the lower cables\n",
    "nodes_of_lower_cables = [1, 2, 3, 4]\n",
    "\n",
    "# Numbers of end nodes of pistons\n",
    "nodes_of_pistons = [9, 10, 11, 12]"
   ]
  },
  {
   "cell_type": "code",
   "execution_count": 7,
   "metadata": {},
   "outputs": [],
   "source": [
    "# merge arrays of nodes\n",
    "nodes = nodes_of_upper_cables + nodes_of_lower_cables + nodes_of_pistons"
   ]
  },
  {
   "cell_type": "code",
   "execution_count": 8,
   "metadata": {},
   "outputs": [],
   "source": [
    "# Numbers of upper cables - used for direction of the load\n",
    "upper_cables = [5, 6, 7, 8]\n",
    "\n",
    "# Numbers of stiff members\n",
    "bars = [20, 21, 22, 23]\n",
    "\n",
    "# Numbers of cables\n",
    "cables = [1, 2, 3, 4, 5, 6, 7, 8, 16, 17, 18, 19]\n",
    "\n",
    "# Numbers of pistons\n",
    "pistons = [9, 13, 14, 15]"
   ]
  },
  {
   "cell_type": "code",
   "execution_count": 9,
   "metadata": {},
   "outputs": [],
   "source": [
    "# assign type of member to each number and create dictionary\n",
    "bars_dict = {bar: \"bar\" for bar in bars}\n",
    "cables_dict = {cables: \"cables\" for cables in cables}\n",
    "pistons_dict = {pistons: \"pistons\" for pistons in pistons}"
   ]
  },
  {
   "cell_type": "code",
   "execution_count": 10,
   "metadata": {},
   "outputs": [],
   "source": [
    "# merge dictionaries\n",
    "members_dict = {**bars_dict, **cables_dict, **pistons_dict}"
   ]
  },
  {
   "cell_type": "code",
   "execution_count": 11,
   "metadata": {},
   "outputs": [],
   "source": [
    "# get members numbers needed for results\n",
    "members_numbers = list(members_dict.keys())\n",
    "# get members types needed as headers for results\n",
    "members_types = list(members_dict.values())"
   ]
  },
  {
   "cell_type": "code",
   "execution_count": 12,
   "metadata": {},
   "outputs": [],
   "source": [
    "def assign_nodal_force(\n",
    "    number, iteration, force, load_direction, nodes_of_upper_cables, upper_cables\n",
    "):\n",
    "    NodalLoad.Force(\n",
    "        no=number,\n",
    "        load_case_no=5007,\n",
    "        nodes_no=str(nodes_of_upper_cables[iteration]),\n",
    "        magnitude=force,\n",
    "        load_direction=load_direction,\n",
    "        specific_direction=True,\n",
    "        params={\n",
    "            \"specific_direction\": [\n",
    "                NodalLoadSpecificDirectionType.DIRECTION_TYPE_PARALLEL_TO_CS_OF_MEMBER,\n",
    "                upper_cables[iteration],\n",
    "            ]\n",
    "        },\n",
    "    )"
   ]
  },
  {
   "cell_type": "code",
   "execution_count": 13,
   "metadata": {},
   "outputs": [],
   "source": [
    "def main(iterations):\n",
    "    for i in tqdm(range(iterations)):\n",
    "        # generate 4 random forces for each bar\n",
    "        random_forces = rng_forces()\n",
    "        # generate 4 random strains for each piston\n",
    "        random_strain = rng_strain()\n",
    "        print(\"\\nrandom forces: \", random_forces)\n",
    "        print(\"\\nrandom strain: \", random_strain)\n",
    "\n",
    "        # assign forces to each member in RFEM\n",
    "        print(\"assigning forces and strain to members...\")\n",
    "        for j in range(len(nodes_of_upper_cables)):\n",
    "            force_1 = random_forces[j][0]  # force in x direction\n",
    "            force_2 = random_forces[j][1]  # force in y direction\n",
    "            force_3 = random_forces[j][2]  # force in z direction\n",
    "\n",
    "            assign_nodal_force(\n",
    "                number=j + 1,\n",
    "                iteration=j,\n",
    "                force=force_1,\n",
    "                load_direction=LoadDirectionType.LOAD_DIRECTION_LOCAL_X,\n",
    "                nodes_of_upper_cables=nodes_of_upper_cables,\n",
    "                upper_cables=upper_cables,\n",
    "            )\n",
    "            assign_nodal_force(\n",
    "                number=j + 20,\n",
    "                iteration=j,\n",
    "                force=force_2,\n",
    "                load_direction=LoadDirectionType.LOAD_DIRECTION_LOCAL_Y,\n",
    "                nodes_of_upper_cables=nodes_of_upper_cables,\n",
    "                upper_cables=upper_cables,\n",
    "            )\n",
    "            assign_nodal_force(\n",
    "                number=j + 30,\n",
    "                iteration=j,\n",
    "                force=force_3,\n",
    "                load_direction=LoadDirectionType.LOAD_DIRECTION_LOCAL_Z,\n",
    "                nodes_of_upper_cables=nodes_of_upper_cables,\n",
    "                upper_cables=upper_cables,\n",
    "            )\n",
    "\n",
    "            # assign axial strain to pistons\n",
    "            MemberLoad.AxialStrain(\n",
    "                no=j + 1,\n",
    "                load_case_no=5007,\n",
    "                members_no=str(pistons[j]),\n",
    "                load_parameter=[random_strain[j] / 1000],\n",
    "            )\n",
    "\n",
    "        # calculate model in RFEM\n",
    "        print(\"calculating model...\")\n",
    "        Calculate_all()\n",
    "\n",
    "        # get results\n",
    "        print(\"getting results...\")\n",
    "        results = get_results(members_numbers, nodes)\n",
    "\n",
    "        # check file sizes\n",
    "        file_sizes = {\n",
    "            \"internal_forces\": os.path.getsize(\n",
    "                os.path.join(csv_folder_path, \"internal_forces.csv\")\n",
    "            ),\n",
    "            \"displacements\": os.path.getsize(\n",
    "                os.path.join(csv_folder_path, \"displacements.csv\")\n",
    "            ),\n",
    "            \"forces\": os.path.getsize(os.path.join(csv_folder_path, \"forces.csv\")),\n",
    "            \"strain\": os.path.getsize(os.path.join(csv_folder_path, \"strain.csv\")),\n",
    "        }\n",
    "\n",
    "        # write results to csv files\n",
    "        with open(\n",
    "            os.path.join(csv_folder_path, \"internal_forces.csv\"), mode=\"a\", newline=\"\"\n",
    "        ) as file:\n",
    "            writer = csv.writer(file)\n",
    "            if i == 0 and file_sizes[\"internal_forces\"] == 0:\n",
    "                writer.writerow(members_numbers)  # write headers only once\n",
    "                writer.writerow(members_types)  # write headers only once\n",
    "            writer.writerow(results[\"internal_forces\"])\n",
    "\n",
    "        # to each number in nodes array, add direction string\n",
    "        nodes_x = [str(i) + \"x\" for i in nodes]\n",
    "        nodes_y = [str(i) + \"y\" for i in nodes]\n",
    "        nodes_z = [str(i) + \"z\" for i in nodes]\n",
    "        nodes_with_direction = nodes_x + nodes_y + nodes_z\n",
    "\n",
    "        # merge displacement results into one array\n",
    "        displacements = np.array(\n",
    "            results[\"displacements_x\"]\n",
    "            + results[\"displacements_y\"]\n",
    "            + results[\"displacements_z\"]\n",
    "        )\n",
    "\n",
    "        with open(\n",
    "            os.path.join(csv_folder_path, \"displacements.csv\"), mode=\"a\", newline=\"\"\n",
    "        ) as file:\n",
    "            writer = csv.writer(file)\n",
    "            if i == 0 and file_sizes[\"displacements\"] == 0:\n",
    "                # write headers only once\n",
    "                writer.writerow(nodes_with_direction)\n",
    "            writer.writerow(displacements)\n",
    "\n",
    "        with open(\n",
    "            os.path.join(csv_folder_path, \"forces.csv\"), mode=\"a\", newline=\"\"\n",
    "        ) as file:\n",
    "            writer = csv.writer(file)\n",
    "            if i == 0 and file_sizes[\"forces\"] == 0:\n",
    "                writer.writerow(\n",
    "                    [\n",
    "                        \"7x\",\n",
    "                        \"7y\",\n",
    "                        \"7z\",\n",
    "                        \"6x\",\n",
    "                        \"6y\",\n",
    "                        \"6z\",\n",
    "                        \"8x\",\n",
    "                        \"8y\",\n",
    "                        \"8z\",\n",
    "                        \"5x\",\n",
    "                        \"5y\",\n",
    "                        \"5z\",\n",
    "                    ]\n",
    "                )  # write headers only once\n",
    "            writer.writerow(np.array(random_forces).flatten())\n",
    "\n",
    "        with open(\n",
    "            os.path.join(csv_folder_path, \"strain.csv\"), mode=\"a\", newline=\"\"\n",
    "        ) as file:\n",
    "            writer = csv.writer(file)\n",
    "            if i == 0 and file_sizes[\"strain\"] == 0:\n",
    "                writer.writerow([\"9\", \"13\", \"14\", \"15\"])  # write headers only once\n",
    "            writer.writerow(np.array(random_strain).flatten())\n",
    "\n",
    "        # delete results\n",
    "        model.clientModel.service.delete_all_results(False)"
   ]
  },
  {
   "cell_type": "code",
   "execution_count": null,
   "metadata": {},
   "outputs": [],
   "source": [
    "main(2)"
   ]
  }
 ],
 "metadata": {
  "kernelspec": {
   "display_name": "base",
   "language": "python",
   "name": "python3"
  },
  "language_info": {
   "codemirror_mode": {
    "name": "ipython",
    "version": 3
   },
   "file_extension": ".py",
   "mimetype": "text/x-python",
   "name": "python",
   "nbconvert_exporter": "python",
   "pygments_lexer": "ipython3",
   "version": "3.11.4"
  },
  "orig_nbformat": 4,
  "vscode": {
   "interpreter": {
    "hash": "75918162d800b4b0afe9003a3a21e108f30b56a8709e9e92681416565459cfc0"
   }
  }
 },
 "nbformat": 4,
 "nbformat_minor": 2
}
